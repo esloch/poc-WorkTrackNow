{
 "cells": [
  {
   "cell_type": "code",
   "execution_count": 1,
   "id": "august-instrument",
   "metadata": {},
   "outputs": [],
   "source": [
    "from datetime import datetime\n"
   ]
  },
  {
   "cell_type": "code",
   "execution_count": 7,
   "id": "sustainable-corrections",
   "metadata": {},
   "outputs": [
    {
     "name": "stdout",
     "output_type": "stream",
     "text": [
      "2021-10-18 07:52:35\n"
     ]
    }
   ],
   "source": [
    "datetime.fromisoformat('2011-11-04')\n",
    "start = datetime.fromisoformat('2021-10-18T07:52:35')\n",
    "print(start)"
   ]
  },
  {
   "cell_type": "code",
   "execution_count": 8,
   "id": "nasty-quest",
   "metadata": {},
   "outputs": [
    {
     "name": "stdout",
     "output_type": "stream",
     "text": [
      "NAME=Teste TASK=01 STATUS=Start DATETIME=2021-10-18T07:52:18 NAME=Teste TASK=01 STATUS=Stop DATETIME=2021-10-18T07:52:35 NAME=Teste02 TASK=Issue02 STATUS=Start DATETIME=2021-10-18T07:57:44 NAME=Teste02 TASK=Issue02 STATUS=Stop DATETIME=2021-10-18T07:58:02\n"
     ]
    }
   ],
   "source": [
    "# import pyyaml module\n",
    "import yaml\n",
    "from yaml.loader import SafeLoader\n",
    "\n",
    "# Open the file and load the file\n",
    "with open('../var_file_names.yaml') as f:\n",
    "    data = yaml.load(f, Loader=SafeLoader)\n",
    "    print(data)"
   ]
  },
  {
   "cell_type": "markdown",
   "id": "willing-maple",
   "metadata": {},
   "source": [
    "---"
   ]
  },
  {
   "cell_type": "code",
   "execution_count": 10,
   "id": "efficient-customer",
   "metadata": {},
   "outputs": [],
   "source": [
    "import sqlite3\n",
    "con = sqlite3.connect('worktrak.db')\n",
    "cur = con.cursor()\n",
    "# Create table\n",
    "# cur.execute('''CREATE TABLE diary_stasks\n",
    "#                (NAME, TASK, STATUS, DATETIME)''')\n",
    "\n",
    "# Insert a row of data\n",
    "cur.execute(\"INSERT INTO diary_stasks VALUES ('Teste02','Issue02','Start','2021-10-18T07:57:44')\")\n",
    "\n",
    "# Save (commit) the changes\n",
    "con.commit()\n",
    "\n",
    "# We can also close the connection if we are done with it.\n",
    "# Just be sure any changes have been committed or they will be lost.\n",
    "con.close()"
   ]
  },
  {
   "cell_type": "code",
   "execution_count": 11,
   "id": "domestic-terror",
   "metadata": {},
   "outputs": [
    {
     "name": "stdout",
     "output_type": "stream",
     "text": [
      "('Teste02', 'Issue02', 'Start', '2021-10-18T07:57:44')\n",
      "('Teste02', 'Issue02', 'Stop', '2021-10-18T09:58:02')\n",
      "('Teste02', 'Issue02', 'Start', '2021-10-18T07:57:44')\n",
      "------------------------------------------------------------\n",
      "      NAME     TASK STATUS             DATETIME\n",
      "0  Teste02  Issue02  Start  2021-10-18T07:57:44\n",
      "1  Teste02  Issue02   Stop  2021-10-18T09:58:02\n",
      "2  Teste02  Issue02  Start  2021-10-18T07:57:44\n"
     ]
    }
   ],
   "source": [
    "import pandas as pd\n",
    "import sqlite3\n",
    "con = sqlite3.connect('worktrak.db')\n",
    "cur = con.cursor()\n",
    "\n",
    "for row in cur.execute('SELECT * FROM diary_stasks ORDER BY NAME'):\n",
    "        print(row)\n",
    "print(20*\"---\")\n",
    "# Read sqlite query results into a pandas DataFrame\n",
    "# con = sqlite3.connect(\"data/portal_mammals.sqlite\")\n",
    "df = pd.read_sql_query(\"SELECT * from diary_stasks\", con)\n",
    "\n",
    "# Verify that result of SQL query is stored in the dataframe\n",
    "print(df.head())\n",
    "\n",
    "con.close()"
   ]
  },
  {
   "cell_type": "code",
   "execution_count": null,
   "id": "deadly-norway",
   "metadata": {},
   "outputs": [],
   "source": []
  }
 ],
 "metadata": {
  "kernelspec": {
   "display_name": "Python 3",
   "language": "python",
   "name": "python3"
  },
  "language_info": {
   "codemirror_mode": {
    "name": "ipython",
    "version": 3
   },
   "file_extension": ".py",
   "mimetype": "text/x-python",
   "name": "python",
   "nbconvert_exporter": "python",
   "pygments_lexer": "ipython3",
   "version": "3.8.10"
  }
 },
 "nbformat": 4,
 "nbformat_minor": 5
}
